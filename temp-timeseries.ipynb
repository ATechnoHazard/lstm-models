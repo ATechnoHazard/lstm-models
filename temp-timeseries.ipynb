{
 "cells": [
  {
   "cell_type": "markdown",
   "metadata": {},
   "source": [
    "# Preprocessing\n",
    "----------------------\n",
    "\n",
    "This part of the kernel focuses on preprocessing the data"
   ]
  },
  {
   "cell_type": "code",
   "execution_count": 40,
   "metadata": {},
   "outputs": [],
   "source": [
    "import matplotlib.pyplot as plt\n",
    "import numpy as np\n",
    "import pandas as pd\n",
    "pd.options.mode.chained_assignment = None\n",
    "import random\n",
    "from datetime import datetime\n",
    "from sklearn import linear_model \n",
    "from sklearn.metrics import mean_absolute_error\n",
    "import plotly\n",
    "\n",
    "# import the relevant Keras modules\n",
    "from keras.models import Sequential\n",
    "from keras.layers import Activation, Dense\n",
    "from keras.layers import LSTM\n",
    "from keras.layers import Dropout"
   ]
  },
  {
   "cell_type": "markdown",
   "metadata": {},
   "source": [
    "## Cleaning and processing data"
   ]
  },
  {
   "cell_type": "code",
   "execution_count": 41,
   "metadata": {
    "pycharm": {
     "name": "#%%\n"
    }
   },
   "outputs": [
    {
     "data": {
      "text/html": [
       "<div>\n",
       "<style scoped>\n",
       "    .dataframe tbody tr th:only-of-type {\n",
       "        vertical-align: middle;\n",
       "    }\n",
       "\n",
       "    .dataframe tbody tr th {\n",
       "        vertical-align: top;\n",
       "    }\n",
       "\n",
       "    .dataframe thead th {\n",
       "        text-align: right;\n",
       "    }\n",
       "</style>\n",
       "<table border=\"1\" class=\"dataframe\">\n",
       "  <thead>\n",
       "    <tr style=\"text-align: right;\">\n",
       "      <th></th>\n",
       "      <th>City</th>\n",
       "      <th>AvgTemperature</th>\n",
       "      <th>Date</th>\n",
       "    </tr>\n",
       "  </thead>\n",
       "  <tbody>\n",
       "    <tr>\n",
       "      <th>1831781</th>\n",
       "      <td>Chicago</td>\n",
       "      <td>23.7</td>\n",
       "      <td>1995-01-01</td>\n",
       "    </tr>\n",
       "    <tr>\n",
       "      <th>1831782</th>\n",
       "      <td>Chicago</td>\n",
       "      <td>13.8</td>\n",
       "      <td>1995-01-02</td>\n",
       "    </tr>\n",
       "    <tr>\n",
       "      <th>1831783</th>\n",
       "      <td>Chicago</td>\n",
       "      <td>14.1</td>\n",
       "      <td>1995-01-03</td>\n",
       "    </tr>\n",
       "    <tr>\n",
       "      <th>1831784</th>\n",
       "      <td>Chicago</td>\n",
       "      <td>3.8</td>\n",
       "      <td>1995-01-04</td>\n",
       "    </tr>\n",
       "    <tr>\n",
       "      <th>1831785</th>\n",
       "      <td>Chicago</td>\n",
       "      <td>5.0</td>\n",
       "      <td>1995-01-05</td>\n",
       "    </tr>\n",
       "  </tbody>\n",
       "</table>\n",
       "</div>"
      ],
      "text/plain": [
       "            City  AvgTemperature       Date\n",
       "1831781  Chicago            23.7 1995-01-01\n",
       "1831782  Chicago            13.8 1995-01-02\n",
       "1831783  Chicago            14.1 1995-01-03\n",
       "1831784  Chicago             3.8 1995-01-04\n",
       "1831785  Chicago             5.0 1995-01-05"
      ]
     },
     "execution_count": 41,
     "metadata": {},
     "output_type": "execute_result"
    }
   ],
   "source": [
    "DATA_PATH = '/run/media/sphericalkat/archive/datasets/city_temperature/city_temperature.csv'\n",
    "data = pd.read_csv(DATA_PATH, \n",
    "                   dtype={'States': 'string'}, \n",
    "                   low_memory=False,\n",
    "                  )\n",
    "\n",
    "# Drop columns we won't be using\n",
    "data.drop(['Region', 'Country', 'State'], inplace=True, axis=1)\n",
    "\n",
    "# Let's train on one city\n",
    "input_data = data[data['City'] == 'Chicago']\n",
    "input_data['Date'] = pd.to_datetime(input_data[['Year', 'Month', 'Day']])\n",
    "input_data.drop(['Month', 'Day', 'Year'], inplace=True, axis=1)\n",
    "input_data.head()"
   ]
  },
  {
   "cell_type": "code",
   "execution_count": 7,
   "metadata": {},
   "outputs": [],
   "source": [
    "## Visualization\n"
   ]
  },
  {
   "cell_type": "code",
   "execution_count": null,
   "metadata": {},
   "outputs": [],
   "source": []
  }
 ],
 "metadata": {
  "kernelspec": {
   "display_name": "Python 3",
   "language": "python",
   "name": "python3"
  },
  "language_info": {
   "codemirror_mode": {
    "name": "ipython",
    "version": 3
   },
   "file_extension": ".py",
   "mimetype": "text/x-python",
   "name": "python",
   "nbconvert_exporter": "python",
   "pygments_lexer": "ipython3",
   "version": "3.8.3"
  }
 },
 "nbformat": 4,
 "nbformat_minor": 4
}
