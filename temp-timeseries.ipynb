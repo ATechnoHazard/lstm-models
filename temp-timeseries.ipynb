{
 "cells": [
  {
   "cell_type": "markdown",
   "metadata": {},
   "source": [
    "# Preprocessing\n",
    "----------------------\n",
    "\n",
    "This part of the kernel focuses on preprocessing the data"
   ]
  },
  {
   "cell_type": "code",
   "execution_count": 1,
   "metadata": {},
   "outputs": [
    {
     "name": "stderr",
     "output_type": "stream",
     "text": [
      "Using TensorFlow backend.\n"
     ]
    }
   ],
   "source": [
    "import matplotlib.pyplot as plt\n",
    "import numpy as np\n",
    "import pandas as pd\n",
    "pd.options.mode.chained_assignment = None\n",
    "import random\n",
    "from datetime import datetime\n",
    "from sklearn.preprocessing import MinMaxScaler\n",
    "from sklearn.metrics import mean_absolute_error\n",
    "from sklearn.model_selection import train_test_split\n",
    "from matplotlib import pyplot as plt\n",
    "from scipy import stats\n",
    "\n",
    "# import the relevant Keras modules\n",
    "from keras.models import Sequential, load_model\n",
    "from keras.layers import Activation, Dense, LSTM, Dropout, GlobalMaxPooling1D\n",
    "from keras.optimizers import Adam\n",
    "from keras.callbacks import ModelCheckpoint, EarlyStopping"
   ]
  },
  {
   "cell_type": "markdown",
   "metadata": {},
   "source": [
    "## Cleaning and processing data"
   ]
  },
  {
   "cell_type": "code",
   "execution_count": 2,
   "metadata": {
    "pycharm": {
     "name": "#%%\n"
    }
   },
   "outputs": [
    {
     "data": {
      "text/html": [
       "<div>\n",
       "<style scoped>\n",
       "    .dataframe tbody tr th:only-of-type {\n",
       "        vertical-align: middle;\n",
       "    }\n",
       "\n",
       "    .dataframe tbody tr th {\n",
       "        vertical-align: top;\n",
       "    }\n",
       "\n",
       "    .dataframe thead th {\n",
       "        text-align: right;\n",
       "    }\n",
       "</style>\n",
       "<table border=\"1\" class=\"dataframe\">\n",
       "  <thead>\n",
       "    <tr style=\"text-align: right;\">\n",
       "      <th></th>\n",
       "      <th>City</th>\n",
       "      <th>AvgTemperature</th>\n",
       "      <th>Date</th>\n",
       "    </tr>\n",
       "  </thead>\n",
       "  <tbody>\n",
       "    <tr>\n",
       "      <th>1831781</th>\n",
       "      <td>Chicago</td>\n",
       "      <td>23.7</td>\n",
       "      <td>1995-01-01</td>\n",
       "    </tr>\n",
       "    <tr>\n",
       "      <th>1831782</th>\n",
       "      <td>Chicago</td>\n",
       "      <td>13.8</td>\n",
       "      <td>1995-01-02</td>\n",
       "    </tr>\n",
       "    <tr>\n",
       "      <th>1831783</th>\n",
       "      <td>Chicago</td>\n",
       "      <td>14.1</td>\n",
       "      <td>1995-01-03</td>\n",
       "    </tr>\n",
       "    <tr>\n",
       "      <th>1831784</th>\n",
       "      <td>Chicago</td>\n",
       "      <td>3.8</td>\n",
       "      <td>1995-01-04</td>\n",
       "    </tr>\n",
       "    <tr>\n",
       "      <th>1831785</th>\n",
       "      <td>Chicago</td>\n",
       "      <td>5.0</td>\n",
       "      <td>1995-01-05</td>\n",
       "    </tr>\n",
       "  </tbody>\n",
       "</table>\n",
       "</div>"
      ],
      "text/plain": [
       "            City  AvgTemperature       Date\n",
       "1831781  Chicago            23.7 1995-01-01\n",
       "1831782  Chicago            13.8 1995-01-02\n",
       "1831783  Chicago            14.1 1995-01-03\n",
       "1831784  Chicago             3.8 1995-01-04\n",
       "1831785  Chicago             5.0 1995-01-05"
      ]
     },
     "execution_count": 2,
     "metadata": {},
     "output_type": "execute_result"
    }
   ],
   "source": [
    "DATA_PATH = '/run/media/sphericalkat/archive/datasets/city_temperature/city_temperature.csv'\n",
    "data = pd.read_csv(DATA_PATH, \n",
    "                   dtype={'States': 'string'}, \n",
    "                   low_memory=False,\n",
    "                  )\n",
    "\n",
    "# Drop columns we won't be using\n",
    "data.drop(['Region', 'Country', 'State'], inplace=True, axis=1)\n",
    "\n",
    "# Let's train on one city\n",
    "input_data = data.loc[data['City'] == 'Chicago']\n",
    "input_data['Date'] = pd.to_datetime(input_data[['Year', 'Month', 'Day']])\n",
    "input_data.drop(['Month', 'Day', 'Year'], inplace=True, axis=1)\n",
    "\n",
    "# Drop outliers\n",
    "input_data = input_data.loc[(np.abs(stats.zscore(input_data['AvgTemperature'])) < 3)]\n",
    "\n",
    "input_data.head()"
   ]
  },
  {
   "cell_type": "markdown",
   "metadata": {},
   "source": [
    "## Visualization"
   ]
  },
  {
   "cell_type": "code",
   "execution_count": 3,
   "metadata": {},
   "outputs": [
    {
     "data": {
      "image/png": "[encoded data removed]",
      "text/plain": [
       "<Figure size 432x288 with 1 Axes>"
      ]
     },
     "metadata": {
      "needs_background": "light"
     },
     "output_type": "display_data"
    }
   ],
   "source": [
    "plt.plot(input_data['Date'], input_data['AvgTemperature'])\n",
    "plt.show()"
   ]
  },
  {
   "cell_type": "markdown",
   "metadata": {},
   "source": [
    "## Converting series to supervised"
   ]
  },
  {
   "cell_type": "code",
   "execution_count": 4,
   "metadata": {},
   "outputs": [],
   "source": [
    "def series_to_supervised(data, n_in=1, n_out=1, dropnan=True):\n",
    "    n_vars = 1 if type(data) is list else data.shape[1]\n",
    "    df = pd.DataFrame(data)\n",
    "    cols, names = list(), list()\n",
    "    \n",
    "    # input sequence (t-n, ... t-1)\n",
    "    for i in range(n_in, 0, -1):\n",
    "        cols.append(df.shift(i))\n",
    "        names += [('var%d(t-%d)' % (j+1, i)) for j in range(n_vars)]\n",
    "        \n",
    "    # forecast sequence (t, t+1, ... t+n)\n",
    "    for i in range(0, n_out):\n",
    "        cols.append(df.shift(-i))\n",
    "        if i == 0:\n",
    "            names += [('var%d(t)' % (j+1)) for j in range(n_vars)]\n",
    "        else:\n",
    "            names += [('var%d(t+%d)' % (j+1, i)) for j in range(n_vars)]\n",
    "            \n",
    "    # put it all together\n",
    "    agg = pd.concat(cols, axis=1)\n",
    "    agg.columns = names\n",
    "    \n",
    "    # drop rows with NaN values\n",
    "    if dropnan:\n",
    "        agg.dropna(inplace=True)\n",
    "        \n",
    "    return agg"
   ]
  },
  {
   "cell_type": "code",
   "execution_count": 5,
   "metadata": {},
   "outputs": [
    {
     "data": {
      "text/html": [
       "<div>\n",
       "<style scoped>\n",
       "    .dataframe tbody tr th:only-of-type {\n",
       "        vertical-align: middle;\n",
       "    }\n",
       "\n",
       "    .dataframe tbody tr th {\n",
       "        vertical-align: top;\n",
       "    }\n",
       "\n",
       "    .dataframe thead th {\n",
       "        text-align: right;\n",
       "    }\n",
       "</style>\n",
       "<table border=\"1\" class=\"dataframe\">\n",
       "  <thead>\n",
       "    <tr style=\"text-align: right;\">\n",
       "      <th></th>\n",
       "      <th>var2(t-1)</th>\n",
       "      <th>var2(t)</th>\n",
       "    </tr>\n",
       "  </thead>\n",
       "  <tbody>\n",
       "    <tr>\n",
       "      <th>1831782</th>\n",
       "      <td>23.7</td>\n",
       "      <td>13.8</td>\n",
       "    </tr>\n",
       "    <tr>\n",
       "      <th>1831783</th>\n",
       "      <td>13.8</td>\n",
       "      <td>14.1</td>\n",
       "    </tr>\n",
       "    <tr>\n",
       "      <th>1831784</th>\n",
       "      <td>14.1</td>\n",
       "      <td>3.8</td>\n",
       "    </tr>\n",
       "    <tr>\n",
       "      <th>1831785</th>\n",
       "      <td>3.8</td>\n",
       "      <td>5.0</td>\n",
       "    </tr>\n",
       "    <tr>\n",
       "      <th>1831786</th>\n",
       "      <td>5.0</td>\n",
       "      <td>21.4</td>\n",
       "    </tr>\n",
       "  </tbody>\n",
       "</table>\n",
       "</div>"
      ],
      "text/plain": [
       "         var2(t-1)  var2(t)\n",
       "1831782       23.7     13.8\n",
       "1831783       13.8     14.1\n",
       "1831784       14.1      3.8\n",
       "1831785        3.8      5.0\n",
       "1831786        5.0     21.4"
      ]
     },
     "execution_count": 5,
     "metadata": {},
     "output_type": "execute_result"
    }
   ],
   "source": [
    "reframed = series_to_supervised(input_data, 1, 1)\n",
    "reframed.drop(reframed.columns[[0, 2, 3, 5]], inplace=True, axis=1)\n",
    "reframed.head()"
   ]
  },
  {
   "cell_type": "markdown",
   "metadata": {},
   "source": [
    "## Prepare data for training"
   ]
  },
  {
   "cell_type": "code",
   "execution_count": 6,
   "metadata": {},
   "outputs": [
    {
     "name": "stdout",
     "output_type": "stream",
     "text": [
      "(6933, 1, 1) (6933, 1) (2311, 1, 1) (2311, 1)\n"
     ]
    }
   ],
   "source": [
    "# Train-test split\n",
    "values = reframed.values\n",
    "train, test = train_test_split(values)\n",
    "\n",
    "# Split into input and output\n",
    "X_train, y_train = train[:, :-1], train[:, -1]\n",
    "X_test, y_test = test[:, :-1], test[:, -1]\n",
    "\n",
    "scaler1 = MinMaxScaler()\n",
    "scaler2 = MinMaxScaler()\n",
    "X_train = scaler1.fit_transform(X_train)\n",
    "y_train = scaler2.fit_transform(y_train.reshape(-1, 1))\n",
    "\n",
    "X_test = scaler1.transform(X_test)\n",
    "y_test = scaler2.transform(y_test.reshape(-1, 1))\n",
    "\n",
    "\n",
    "# reshape input to be 3D [samples, timesteps, features]\n",
    "X_train = X_train.reshape((X_train.shape[0], 1, X_train.shape[1]))\n",
    "X_test = X_test.reshape((X_test.shape[0], 1, X_test.shape[1]))\n",
    "print(X_train.shape, y_train.shape, X_test.shape, y_test.shape)"
   ]
  },
  {
   "cell_type": "markdown",
   "metadata": {},
   "source": [
    "## Define and compile model"
   ]
  },
  {
   "cell_type": "code",
   "execution_count": 7,
   "metadata": {},
   "outputs": [
    {
     "name": "stdout",
     "output_type": "stream",
     "text": [
      "Model: \"sequential_1\"\n",
      "_________________________________________________________________\n",
      "Layer (type)                 Output Shape              Param #   \n",
      "=================================================================\n",
      "lstm_1 (LSTM)                (None, 1, 50)             10400     \n",
      "_________________________________________________________________\n",
      "global_max_pooling1d_1 (Glob (None, 50)                0         \n",
      "_________________________________________________________________\n",
      "dropout_1 (Dropout)          (None, 50)                0         \n",
      "_________________________________________________________________\n",
      "dense_1 (Dense)              (None, 1)                 51        \n",
      "=================================================================\n",
      "Total params: 10,451\n",
      "Trainable params: 10,451\n",
      "Non-trainable params: 0\n",
      "_________________________________________________________________\n"
     ]
    }
   ],
   "source": [
    "callbacks = [\n",
    "    EarlyStopping(\n",
    "        monitor='val_loss',\n",
    "        min_delta=1e-4,\n",
    "        patience=5,\n",
    "        verbose=1\n",
    "    ),\n",
    "    ModelCheckpoint(\n",
    "        filepath=\"weights.h5\", \n",
    "        monitor=\"val_loss\", \n",
    "        mode='min', \n",
    "        save_best_only=True,\n",
    "        save_weights_only=True,\n",
    "        verbose=1\n",
    "    )\n",
    "]\n",
    "\n",
    "model = Sequential()\n",
    "model.add(LSTM(50, return_sequences=True, input_shape=(X_train.shape[1], X_train.shape[2])))\n",
    "model.add(GlobalMaxPooling1D())\n",
    "model.add(Dropout(0.25))\n",
    "model.add(Dense(X_train.shape[2]))\n",
    "\n",
    "model.compile(loss='mae', optimizer='adam')\n",
    "model.summary()"
   ]
  },
  {
   "cell_type": "code",
   "execution_count": 8,
   "metadata": {},
   "outputs": [
    {
     "name": "stdout",
     "output_type": "stream",
     "text": [
      "Train on 6933 samples, validate on 2311 samples\n",
      "Epoch 1/50\n",
      " - 3s - loss: 0.3470 - val_loss: 0.1036\n",
      "\n",
      "Epoch 00001: val_loss improved from inf to 0.10359, saving model to weights.h5\n",
      "Epoch 2/50\n",
      " - 1s - loss: 0.1030 - val_loss: 0.0825\n",
      "\n",
      "Epoch 00002: val_loss improved from 0.10359 to 0.08255, saving model to weights.h5\n",
      "Epoch 3/50\n",
      " - 1s - loss: 0.0843 - val_loss: 0.0588\n",
      "\n",
      "Epoch 00003: val_loss improved from 0.08255 to 0.05881, saving model to weights.h5\n",
      "Epoch 4/50\n",
      " - 1s - loss: 0.0689 - val_loss: 0.0516\n",
      "\n",
      "Epoch 00004: val_loss improved from 0.05881 to 0.05162, saving model to weights.h5\n",
      "Epoch 5/50\n",
      " - 1s - loss: 0.0639 - val_loss: 0.0479\n",
      "\n",
      "Epoch 00005: val_loss improved from 0.05162 to 0.04793, saving model to weights.h5\n",
      "Epoch 6/50\n",
      " - 1s - loss: 0.0635 - val_loss: 0.0477\n",
      "\n",
      "Epoch 00006: val_loss improved from 0.04793 to 0.04766, saving model to weights.h5\n",
      "Epoch 7/50\n",
      " - 1s - loss: 0.0624 - val_loss: 0.0479\n",
      "\n",
      "Epoch 00007: val_loss did not improve from 0.04766\n",
      "Epoch 8/50\n",
      " - 1s - loss: 0.0617 - val_loss: 0.0483\n",
      "\n",
      "Epoch 00008: val_loss did not improve from 0.04766\n",
      "Epoch 9/50\n",
      " - 1s - loss: 0.0601 - val_loss: 0.0484\n",
      "\n",
      "Epoch 00009: val_loss did not improve from 0.04766\n",
      "Epoch 10/50\n",
      " - 1s - loss: 0.0595 - val_loss: 0.0486\n",
      "\n",
      "Epoch 00010: val_loss did not improve from 0.04766\n",
      "Epoch 11/50\n",
      " - 1s - loss: 0.0591 - val_loss: 0.0471\n",
      "\n",
      "Epoch 00011: val_loss improved from 0.04766 to 0.04711, saving model to weights.h5\n",
      "Epoch 12/50\n",
      " - 1s - loss: 0.0580 - val_loss: 0.0473\n",
      "\n",
      "Epoch 00012: val_loss did not improve from 0.04711\n",
      "Epoch 13/50\n",
      " - 1s - loss: 0.0583 - val_loss: 0.0471\n",
      "\n",
      "Epoch 00013: val_loss did not improve from 0.04711\n",
      "Epoch 14/50\n",
      " - 1s - loss: 0.0569 - val_loss: 0.0472\n",
      "\n",
      "Epoch 00014: val_loss did not improve from 0.04711\n",
      "Epoch 15/50\n",
      " - 1s - loss: 0.0570 - val_loss: 0.0476\n",
      "\n",
      "Epoch 00015: val_loss did not improve from 0.04711\n",
      "Epoch 16/50\n",
      " - 1s - loss: 0.0567 - val_loss: 0.0474\n",
      "\n",
      "Epoch 00016: val_loss did not improve from 0.04711\n",
      "Epoch 00016: early stopping\n"
     ]
    }
   ],
   "source": [
    "model.fit(X_train, y_train, epochs=50, batch_size=64, validation_data=(X_test, y_test), \n",
    "          verbose=2, shuffle=False, callbacks=callbacks)\n",
    "\n",
    "model.load_weights('weights.h5')\n",
    "model.save('model.pb')"
   ]
  },
  {
   "cell_type": "code",
   "execution_count": 9,
   "metadata": {},
   "outputs": [
    {
     "data": {
      "image/png": "[encoded data removed]",
      "text/plain": [
       "<Figure size 432x288 with 1 Axes>"
      ]
     },
     "metadata": {
      "needs_background": "light"
     },
     "output_type": "display_data"
    }
   ],
   "source": [
    "model = load_model(\"model.pb\")\n",
    "plt.plot(scaler2.inverse_transform(y_test.reshape(-1, 1)), label = \"actual\")\n",
    "plt.plot(scaler1.inverse_transform(model.predict(X_test)), label = \"predicted\")\n",
    "plt.xlabel('Day number')\n",
    "plt.ylabel('Temperature in F')\n",
    "plt.legend()\n",
    "plt.show()"
   ]
  },
  {
   "cell_type": "code",
   "execution_count": null,
   "metadata": {},
   "outputs": [],
   "source": []
  }
 ],
 "metadata": {
  "kernelspec": {
   "display_name": "Python 3",
   "language": "python",
   "name": "python3"
  },
  "language_info": {
   "codemirror_mode": {
    "name": "ipython",
    "version": 3
   },
   "file_extension": ".py",
   "mimetype": "text/x-python",
   "name": "python",
   "nbconvert_exporter": "python",
   "pygments_lexer": "ipython3",
   "version": "3.8.3"
  }
 },
 "nbformat": 4,
 "nbformat_minor": 4
}
